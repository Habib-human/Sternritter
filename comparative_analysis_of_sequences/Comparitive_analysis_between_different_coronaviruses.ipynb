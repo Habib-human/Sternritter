{
 "cells": [
  {
   "cell_type": "markdown",
   "id": "56927bcb",
   "metadata": {},
   "source": [
    "# A comparative study between five of the seven known coronavirus strains (Human coronavirus 229E (HCoV-229E),Human coronavirus NL63 (HCoV-NL63),Human coronavirus HKU1 (HCoV-HKU1),Middle East respiratory syndrome-related coronavirus (MERS-CoV),and Severe acute respiratory syndrome coronavirus 2 (SARS-CoV-2))\n",
    "in this project we\n",
    "1. compared the GC contents of all the sequences\n",
    "2. aligned sars-cov-2 with other four virus strains using dotplot\n",
    "3. Observed the struture of the respective viral proteins\n"
   ]
  },
  {
   "cell_type": "markdown",
   "id": "f4399313",
   "metadata": {},
   "source": [
    "### Import all the libraries "
   ]
  },
  {
   "cell_type": "code",
   "execution_count": 53,
   "id": "b3bf9fb9",
   "metadata": {},
   "outputs": [],
   "source": [
    "from Bio.Seq import Seq\n",
    "from Bio.SeqUtils import GC\n",
    "from Bio import SeqIO\n",
    "from Bio.SeqUtils import GC\n",
    "from Bio import pairwise2\n",
    "from Bio.pairwise2 import format_alignment\n",
    "import numpy as np\n",
    "import matplotlib.pyplot as plt\n",
    "from Bio.SeqUtils.ProtParam import ProteinAnalysis"
   ]
  },
  {
   "cell_type": "code",
   "execution_count": 54,
   "id": "ad6e089d",
   "metadata": {},
   "outputs": [],
   "source": [
    "def delta(x,y):\n",
    "    return 0 if x == y else 1\n",
    "\n",
    "\n",
    "def M(seq1,seq2,i,j,k):\n",
    "    return sum(delta(x,y) for x,y in zip(seq1[i:i+k],seq2[j:j+k]))\n",
    "\n",
    "\n",
    "def makeMatrix(seq1,seq2,k):\n",
    "    n = len(seq1)\n",
    "    m = len(seq2)\n",
    "    return [[M(seq1,seq2,i,j,k) for j in range(m-k+1)] for i in range(n-k+1)]\n",
    "\n",
    "\n",
    "def plotMatrix(M,t, seq1, seq2, nonblank = chr(0x25A0), blank = ' '):\n",
    "    print(' |' + seq2)\n",
    "    print('-'*(2 + len(seq2)))\n",
    "    for label,row in zip(seq1,M):\n",
    "        line = ''.join(nonblank if s < t else blank for s in row)\n",
    "        print(label + '|' + line)\n",
    "\n",
    "\n",
    "def dotplot(seq1,seq2,k = 1,t = 1):\n",
    "    M = makeMatrix(seq1,seq2,k)\n",
    "    plotMatrix(M, t, seq1,seq2) #experiment with character choice"
   ]
  },
  {
   "cell_type": "code",
   "execution_count": 55,
   "id": "09583000",
   "metadata": {},
   "outputs": [],
   "source": [
    "def dotplotgraph(seq1,seq2):\n",
    "    plt.imshow(np.array(makeMatrix(seq1,seq2,1)))\n",
    "    # on x-axis list all sequences of seq 2\n",
    "    xt=plt.xticks(np.arange(len(list(seq2))),list(seq2))\n",
    "    # on y-axis list all sequences of seq 1\n",
    "    yt=plt.yticks(np.arange(len(list(seq1))),list(seq1))\n",
    "    plt.show()"
   ]
  },
  {
   "cell_type": "code",
   "execution_count": 56,
   "id": "1c6b4896",
   "metadata": {},
   "outputs": [],
   "source": [
    "Human_Coronavirus_NL63 = SeqIO.read(\"C:\\\\Users\\\\DSFM\\\\Downloads\\\\HumanCoronavirusNL63.fasta\",\"fasta\")\n",
    "Human_coronavirus_229E = SeqIO.read(\"C:\\\\Users\\\\DSFM\\\\Downloads\\\\Humancoronavirus229E.fasta\",\"fasta\")\n",
    "Human_coronavirus_HKU1 = SeqIO.read(\"C:\\\\Users\\\\DSFM\\Downloads\\\\HumancoronavirusHKU1.fasta\",\"fasta\")\n",
    "Middle_East_respiratory_syndrome_related_coronavirus = SeqIO.read(\"C:\\\\Users\\\\DSFM\\\\Downloads\\\\MiddleEastrespiratorysyndromerelatedcoronavirus.fasta\",\"fasta\")\n",
    "Sars_Covid_2 =SeqIO.read(\"C:\\\\Users\\\\DSFM\\\\Downloads\\\\Sars_Covid_2.fasta\",\"fasta\")"
   ]
  },
  {
   "cell_type": "code",
   "execution_count": 57,
   "id": "3a333d13",
   "metadata": {},
   "outputs": [
    {
     "data": {
      "text/plain": [
       "SeqRecord(seq=Seq('CTTAAAGAATTTTTCTATCTATAGATAGAGAATTTTCTTATTTAGACTTTGTGT...CAC'), id='NC_005831.2', name='NC_005831.2', description='NC_005831.2 Human Coronavirus NL63, complete genome', dbxrefs=[])"
      ]
     },
     "execution_count": 57,
     "metadata": {},
     "output_type": "execute_result"
    }
   ],
   "source": [
    "Human_Coronavirus_NL63"
   ]
  },
  {
   "cell_type": "code",
   "execution_count": 58,
   "id": "14cb7b7c",
   "metadata": {},
   "outputs": [
    {
     "data": {
      "text/plain": [
       "SeqRecord(seq=Seq('ACTTAAGTACCTTATCTATCTACAGATAGAAAAGTTGCTTTTTAGACTTTGTGT...AAA'), id='MT797634.1', name='MT797634.1', description='MT797634.1 Human coronavirus 229E isolate HK20-42, complete genome', dbxrefs=[])"
      ]
     },
     "execution_count": 58,
     "metadata": {},
     "output_type": "execute_result"
    }
   ],
   "source": [
    "Human_coronavirus_229E"
   ]
  },
  {
   "cell_type": "code",
   "execution_count": 59,
   "id": "f01333d0",
   "metadata": {},
   "outputs": [
    {
     "data": {
      "text/plain": [
       "SeqRecord(seq=Seq('GATTGACGTTCGTACCGTCTATCAGCTTACGATCTCTTGTCAGATCTCATTAAA...TAC'), id='MH940245.1', name='MH940245.1', description='MH940245.1 Human coronavirus HKU1 isolate SI17244, complete genome', dbxrefs=[])"
      ]
     },
     "execution_count": 59,
     "metadata": {},
     "output_type": "execute_result"
    }
   ],
   "source": [
    "Human_coronavirus_HKU1"
   ]
  },
  {
   "cell_type": "code",
   "execution_count": 60,
   "id": "3a01b326",
   "metadata": {},
   "outputs": [
    {
     "data": {
      "text/plain": [
       "SeqRecord(seq=Seq('ATAGCTTGGCTATCTCACTTCCCCTCGTTCTCTTGCAGAACTTTGATTTTAACG...AAA'), id='MK967708.1', name='MK967708.1', description='MK967708.1 Middle East respiratory syndrome-related coronavirus isolate Merscov/Egypt/Camel/AHRI-FAO-1/2018, complete genome', dbxrefs=[])"
      ]
     },
     "execution_count": 60,
     "metadata": {},
     "output_type": "execute_result"
    }
   ],
   "source": [
    "Middle_East_respiratory_syndrome_related_coronavirus"
   ]
  },
  {
   "cell_type": "code",
   "execution_count": 61,
   "id": "21cf4fed",
   "metadata": {},
   "outputs": [
    {
     "data": {
      "text/plain": [
       "SeqRecord(seq=Seq('ATTAAAGGTTTATACCTTCCCAGGTAACAAACCAACCAACTTTCGATCTCTTGT...AAA'), id='NC_045512.2', name='NC_045512.2', description='NC_045512.2 Severe acute respiratory syndrome coronavirus 2 isolate Wuhan-Hu-1, complete genome', dbxrefs=[])"
      ]
     },
     "execution_count": 61,
     "metadata": {},
     "output_type": "execute_result"
    }
   ],
   "source": [
    "Sars_Covid_2"
   ]
  },
  {
   "cell_type": "code",
   "execution_count": 62,
   "id": "7ec24de4",
   "metadata": {
    "scrolled": true
   },
   "outputs": [
    {
     "name": "stdout",
     "output_type": "stream",
     "text": [
      "Human_Coronavirus_NL63_seq :: 27553\n",
      "Human_coronavirus_229E_seq :: 27261\n",
      "Human_coronavirus_HKU1_seq :: 29811\n",
      "Middle_East_respiratory_syndrome_related_coronavirus_seq :: 30106\n",
      "Sars_Covid_2_seq :: 29903\n"
     ]
    }
   ],
   "source": [
    "print(\"Human_Coronavirus_NL63_seq ::\",len(Human_Coronavirus_NL63.seq))\n",
    "print(\"Human_coronavirus_229E_seq ::\",len(Human_coronavirus_229E.seq))\n",
    "print(\"Human_coronavirus_HKU1_seq ::\",len(Human_coronavirus_HKU1.seq))\n",
    "print(\"Middle_East_respiratory_syndrome_related_coronavirus_seq ::\",len(Middle_East_respiratory_syndrome_related_coronavirus.seq))\n",
    "print(\"Sars_Covid_2_seq ::\",len(Sars_Covid_2.seq))"
   ]
  },
  {
   "cell_type": "code",
   "execution_count": 63,
   "id": "2f39e086",
   "metadata": {},
   "outputs": [
    {
     "name": "stdout",
     "output_type": "stream",
     "text": [
      "GC content of Human_Coronavirus_NL63_seq =  34.46085725692302\n",
      "GC content of Human_coronavirus_229E_seq =  38.054363376251786\n",
      "GC content of Human_coronavirus_HKU1_seq =  32.01502800979504\n",
      "GC content of Middle_East_respiratory_syndrome_related_coronavirus_seq =  41.17451670763303\n",
      "GC content of Sars_Covid_2_seq =  37.97277865097148\n"
     ]
    }
   ],
   "source": [
    "print(\"GC content of Human_Coronavirus_NL63_seq = \",GC(Human_Coronavirus_NL63.seq))\n",
    "print(\"GC content of Human_coronavirus_229E_seq = \",GC(Human_coronavirus_229E.seq))\n",
    "print(\"GC content of Human_coronavirus_HKU1_seq = \",GC(Human_coronavirus_HKU1.seq))\n",
    "print(\"GC content of Middle_East_respiratory_syndrome_related_coronavirus_seq = \",GC(Middle_East_respiratory_syndrome_related_coronavirus.seq))\n",
    "print(\"GC content of Sars_Covid_2_seq = \",GC(Sars_Covid_2.seq))"
   ]
  },
  {
   "cell_type": "code",
   "execution_count": 64,
   "id": "03b8c0b2",
   "metadata": {},
   "outputs": [
    {
     "name": "stderr",
     "output_type": "stream",
     "text": [
      "D:\\New folder (2)\\lib\\site-packages\\Bio\\Seq.py:2979: BiopythonWarning: Partial codon, len(sequence) not a multiple of three. Explicitly trim the sequence or add trailing N before translation. This may become an error in future.\n",
      "  warnings.warn(\n"
     ]
    }
   ],
   "source": [
    "Human_Coronavirus_NL63_protein = Human_Coronavirus_NL63.seq.translate()\n",
    "Human_coronavirus_229E_protein = Human_coronavirus_229E.seq.translate()\n",
    "Human_coronavirus_HKU1_protein = Human_coronavirus_HKU1.seq.translate()\n",
    "Middle_East_respiratory_syndrome_related_coronavirus_protein = Middle_East_respiratory_syndrome_related_coronavirus.seq.translate()\n",
    "Sars_Covid_2_protein = Sars_Covid_2.seq.translate()"
   ]
  },
  {
   "cell_type": "code",
   "execution_count": 65,
   "id": "093d4fc3",
   "metadata": {},
   "outputs": [
    {
     "name": "stdout",
     "output_type": "stream",
     "text": [
      "Human_Coronavirus_NL63_protein =  9184\n",
      "Human_coronavirus_229E_protein =  9087\n",
      "Human_coronavirus_HKU1_protein =  9937\n",
      "Middle_East_respiratory_syndrome_related_coronavirus_protein =  10035\n",
      "Sars_Covid_2_protein =  9967\n"
     ]
    }
   ],
   "source": [
    "print(\"Human_Coronavirus_NL63_protein = \",len(Human_Coronavirus_NL63_protein))\n",
    "print(\"Human_coronavirus_229E_protein = \",len(Human_coronavirus_229E_protein))\n",
    "print(\"Human_coronavirus_HKU1_protein = \",len(Human_coronavirus_HKU1_protein))\n",
    "print(\"Middle_East_respiratory_syndrome_related_coronavirus_protein = \",len(Middle_East_respiratory_syndrome_related_coronavirus_protein))\n",
    "print(\"Sars_Covid_2_protein = \",len(Sars_Covid_2_protein))"
   ]
  },
  {
   "cell_type": "code",
   "execution_count": 66,
   "id": "fb5de6d2",
   "metadata": {},
   "outputs": [],
   "source": [
    "from collections import Counter"
   ]
  },
  {
   "cell_type": "code",
   "execution_count": 67,
   "id": "5cab5013",
   "metadata": {},
   "outputs": [],
   "source": [
    "Human_Coronavirus_NL63_AA_count = Counter(Human_Coronavirus_NL63_protein)\n",
    "Human_coronavirus_229E_AA_count = Counter(Human_coronavirus_229E_protein)\n",
    "Human_coronavirus_HKU1_AA_count = Counter(Human_coronavirus_HKU1_protein)\n",
    "Middle_East_respiratory_syndrome_related_coronavirus_AA_count = Counter(Middle_East_respiratory_syndrome_related_coronavirus_protein)\n",
    "Sars_Covid_2_AA_count = Counter(Sars_Covid_2_protein)"
   ]
  },
  {
   "cell_type": "code",
   "execution_count": 68,
   "id": "e602fbca",
   "metadata": {},
   "outputs": [
    {
     "data": {
      "text/plain": [
       "<BarContainer object of 21 artists>"
      ]
     },
     "execution_count": 68,
     "metadata": {},
     "output_type": "execute_result"
    },
    {
     "data": {
      "image/png": "[encoded data removed]",
      "text/plain": [
       "<Figure size 432x288 with 1 Axes>"
      ]
     },
     "metadata": {
      "needs_background": "light"
     },
     "output_type": "display_data"
    }
   ],
   "source": [
    "plt.bar(Human_Coronavirus_NL63_AA_count.keys(), Human_Coronavirus_NL63_AA_count.values())"
   ]
  },
  {
   "cell_type": "code",
   "execution_count": 69,
   "id": "82567077",
   "metadata": {},
   "outputs": [
    {
     "data": {
      "text/plain": [
       "<BarContainer object of 21 artists>"
      ]
     },
     "execution_count": 69,
     "metadata": {},
     "output_type": "execute_result"
    },
    {
     "data": {
      "image/png": "[encoded data removed]",
      "text/plain": [
       "<Figure size 432x288 with 1 Axes>"
      ]
     },
     "metadata": {
      "needs_background": "light"
     },
     "output_type": "display_data"
    }
   ],
   "source": [
    "plt.bar(Human_coronavirus_229E_AA_count.keys(), Human_coronavirus_229E_AA_count.values())"
   ]
  },
  {
   "cell_type": "code",
   "execution_count": 70,
   "id": "4a4be608",
   "metadata": {},
   "outputs": [
    {
     "data": {
      "text/plain": [
       "<BarContainer object of 21 artists>"
      ]
     },
     "execution_count": 70,
     "metadata": {},
     "output_type": "execute_result"
    },
    {
     "data": {
      "image/png": "[encoded data removed]",
      "text/plain": [
       "<Figure size 432x288 with 1 Axes>"
      ]
     },
     "metadata": {
      "needs_background": "light"
     },
     "output_type": "display_data"
    }
   ],
   "source": [
    "plt.bar(Human_coronavirus_HKU1_AA_count.keys(), Human_coronavirus_HKU1_AA_count.values())"
   ]
  },
  {
   "cell_type": "code",
   "execution_count": 71,
   "id": "d0cf9d2c",
   "metadata": {},
   "outputs": [
    {
     "data": {
      "text/plain": [
       "<BarContainer object of 21 artists>"
      ]
     },
     "execution_count": 71,
     "metadata": {},
     "output_type": "execute_result"
    },
    {
     "data": {
      "image/png": "[encoded data removed]",
      "text/plain": [
       "<Figure size 432x288 with 1 Axes>"
      ]
     },
     "metadata": {
      "needs_background": "light"
     },
     "output_type": "display_data"
    }
   ],
   "source": [
    "plt.bar(Middle_East_respiratory_syndrome_related_coronavirus_AA_count.keys(), Middle_East_respiratory_syndrome_related_coronavirus_AA_count.values())"
   ]
  },
  {
   "cell_type": "code",
   "execution_count": 72,
   "id": "a96cdb3f",
   "metadata": {},
   "outputs": [
    {
     "data": {
      "text/plain": [
       "<BarContainer object of 21 artists>"
      ]
     },
     "execution_count": 72,
     "metadata": {},
     "output_type": "execute_result"
    },
    {
     "data": {
      "image/png": "[encoded data removed]",
      "text/plain": [
       "<Figure size 432x288 with 1 Axes>"
      ]
     },
     "metadata": {
      "needs_background": "light"
     },
     "output_type": "display_data"
    }
   ],
   "source": [
    "plt.bar(Sars_Covid_2_AA_count.keys(), Sars_Covid_2_AA_count.values())"
   ]
  },
  {
   "cell_type": "code",
   "execution_count": 73,
   "id": "1d5599b1",
   "metadata": {},
   "outputs": [
    {
     "data": {
      "image/png": "[encoded data removed]",
      "text/plain": [
       "<Figure size 432x288 with 1 Axes>"
      ]
     },
     "metadata": {
      "needs_background": "light"
     },
     "output_type": "display_data"
    }
   ],
   "source": [
    "dotplotgraph(Sars_Covid_2.seq[0:60],Human_Coronavirus_NL63.seq[0:60])"
   ]
  },
  {
   "cell_type": "code",
   "execution_count": 74,
   "id": "d7dccc68",
   "metadata": {},
   "outputs": [
    {
     "data": {
      "image/png": "[encoded data removed]",
      "text/plain": [
       "<Figure size 432x288 with 1 Axes>"
      ]
     },
     "metadata": {
      "needs_background": "light"
     },
     "output_type": "display_data"
    }
   ],
   "source": [
    "dotplotgraph(Sars_Covid_2.seq[0:60], Human_coronavirus_229E.seq[0:60])"
   ]
  },
  {
   "cell_type": "code",
   "execution_count": 75,
   "id": "6208924e",
   "metadata": {},
   "outputs": [
    {
     "data": {
      "image/png": "[encoded data removed]",
      "text/plain": [
       "<Figure size 432x288 with 1 Axes>"
      ]
     },
     "metadata": {
      "needs_background": "light"
     },
     "output_type": "display_data"
    }
   ],
   "source": [
    "dotplotgraph(Sars_Covid_2.seq[0:60], Human_coronavirus_HKU1.seq[0:60])"
   ]
  },
  {
   "cell_type": "code",
   "execution_count": 76,
   "id": "2488ea1f",
   "metadata": {},
   "outputs": [
    {
     "data": {
      "image/png": "[encoded data removed]",
      "text/plain": [
       "<Figure size 432x288 with 1 Axes>"
      ]
     },
     "metadata": {
      "needs_background": "light"
     },
     "output_type": "display_data"
    }
   ],
   "source": [
    "dotplotgraph(Sars_Covid_2.seq[0:60], Middle_East_respiratory_syndrome_related_coronavirus.seq[0:60])"
   ]
  },
  {
   "cell_type": "code",
   "execution_count": 77,
   "id": "8d9fafd1",
   "metadata": {},
   "outputs": [],
   "source": [
    "Sars_Covid_2_and_Human_Coronavirus_NL63_alighnment = pairwise2.align.globalxx(Sars_Covid_2.seq[0:100],Human_Coronavirus_NL63.seq[0:100],one_alignment_only=True,score_only=True)\n",
    "Sars_Covid_2_and_Human_coronavirus_229E_alighnment = pairwise2.align.globalxx(Sars_Covid_2.seq[0:100],Human_coronavirus_229E.seq[0:100],one_alignment_only=True,score_only=True)\n",
    "Sars_Covid_2_and_Human_coronavirus_HKU1_alighnment = pairwise2.align.globalxx(Sars_Covid_2.seq[0:100],Human_coronavirus_HKU1.seq[0:100],one_alignment_only=True,score_only=True)\n",
    "Sars_Covid_2_and_Middle_East_respiratory_syndrome_related_coronavirus_alighnment = pairwise2.align.globalxx(Sars_Covid_2.seq[0:100],Middle_East_respiratory_syndrome_related_coronavirus.seq[0:100],one_alignment_only=True,score_only=True)"
   ]
  },
  {
   "cell_type": "code",
   "execution_count": 78,
   "id": "549fb94a",
   "metadata": {},
   "outputs": [
    {
     "data": {
      "text/plain": [
       "68.0"
      ]
     },
     "execution_count": 78,
     "metadata": {},
     "output_type": "execute_result"
    }
   ],
   "source": [
    "Sars_Covid_2_and_Human_Coronavirus_NL63_alighnment"
   ]
  },
  {
   "cell_type": "code",
   "execution_count": 79,
   "id": "77c6b667",
   "metadata": {},
   "outputs": [
    {
     "data": {
      "text/plain": [
       "70.0"
      ]
     },
     "execution_count": 79,
     "metadata": {},
     "output_type": "execute_result"
    }
   ],
   "source": [
    "Sars_Covid_2_and_Human_coronavirus_229E_alighnment"
   ]
  },
  {
   "cell_type": "code",
   "execution_count": 80,
   "id": "feb3625f",
   "metadata": {},
   "outputs": [
    {
     "data": {
      "text/plain": [
       "68.0"
      ]
     },
     "execution_count": 80,
     "metadata": {},
     "output_type": "execute_result"
    }
   ],
   "source": [
    "Sars_Covid_2_and_Human_coronavirus_HKU1_alighnment"
   ]
  },
  {
   "cell_type": "code",
   "execution_count": 81,
   "id": "eb7e3941",
   "metadata": {},
   "outputs": [
    {
     "data": {
      "text/plain": [
       "68.0"
      ]
     },
     "execution_count": 81,
     "metadata": {},
     "output_type": "execute_result"
    }
   ],
   "source": [
    "Sars_Covid_2_and_Middle_East_respiratory_syndrome_related_coronavirus_alighnment"
   ]
  },
  {
   "cell_type": "code",
   "execution_count": 82,
   "id": "f92270fc",
   "metadata": {},
   "outputs": [],
   "source": [
    "from Bio.PDB import PDBParser,MMCIFParser"
   ]
  },
  {
   "cell_type": "code",
   "execution_count": 83,
   "id": "2fca5f70",
   "metadata": {},
   "outputs": [],
   "source": [
    "parser = PDBParser()"
   ]
  },
  {
   "cell_type": "code",
   "execution_count": 84,
   "id": "6bf7c1d4",
   "metadata": {},
   "outputs": [
    {
     "name": "stderr",
     "output_type": "stream",
     "text": [
      "D:\\New folder (2)\\lib\\site-packages\\Bio\\PDB\\StructureBuilder.py:89: PDBConstructionWarning: WARNING: Chain A is discontinuous at line 25394.\n",
      "  warnings.warn(\n",
      "D:\\New folder (2)\\lib\\site-packages\\Bio\\PDB\\StructureBuilder.py:89: PDBConstructionWarning: WARNING: Chain B is discontinuous at line 25548.\n",
      "  warnings.warn(\n",
      "D:\\New folder (2)\\lib\\site-packages\\Bio\\PDB\\StructureBuilder.py:89: PDBConstructionWarning: WARNING: Chain C is discontinuous at line 25702.\n",
      "  warnings.warn(\n",
      "D:\\New folder (2)\\lib\\site-packages\\Bio\\PDB\\StructureBuilder.py:89: PDBConstructionWarning: WARNING: Chain A is discontinuous at line 24426.\n",
      "  warnings.warn(\n",
      "D:\\New folder (2)\\lib\\site-packages\\Bio\\PDB\\StructureBuilder.py:89: PDBConstructionWarning: WARNING: Chain B is discontinuous at line 24580.\n",
      "  warnings.warn(\n",
      "D:\\New folder (2)\\lib\\site-packages\\Bio\\PDB\\StructureBuilder.py:89: PDBConstructionWarning: WARNING: Chain C is discontinuous at line 24734.\n",
      "  warnings.warn(\n",
      "D:\\New folder (2)\\lib\\site-packages\\Bio\\PDB\\StructureBuilder.py:89: PDBConstructionWarning: WARNING: Chain A is discontinuous at line 2488.\n",
      "  warnings.warn(\n",
      "D:\\New folder (2)\\lib\\site-packages\\Bio\\PDB\\StructureBuilder.py:89: PDBConstructionWarning: WARNING: Chain B is discontinuous at line 2489.\n",
      "  warnings.warn(\n",
      "D:\\New folder (2)\\lib\\site-packages\\Bio\\PDB\\StructureBuilder.py:89: PDBConstructionWarning: WARNING: Chain C is discontinuous at line 2494.\n",
      "  warnings.warn(\n",
      "D:\\New folder (2)\\lib\\site-packages\\Bio\\PDB\\StructureBuilder.py:89: PDBConstructionWarning: WARNING: Chain A is discontinuous at line 2495.\n",
      "  warnings.warn(\n",
      "D:\\New folder (2)\\lib\\site-packages\\Bio\\PDB\\StructureBuilder.py:89: PDBConstructionWarning: WARNING: Chain B is discontinuous at line 2577.\n",
      "  warnings.warn(\n",
      "D:\\New folder (2)\\lib\\site-packages\\Bio\\PDB\\StructureBuilder.py:89: PDBConstructionWarning: WARNING: Chain C is discontinuous at line 2646.\n",
      "  warnings.warn(\n",
      "D:\\New folder (2)\\lib\\site-packages\\Bio\\PDB\\StructureBuilder.py:89: PDBConstructionWarning: WARNING: Chain A is discontinuous at line 4033.\n",
      "  warnings.warn(\n",
      "D:\\New folder (2)\\lib\\site-packages\\Bio\\PDB\\StructureBuilder.py:89: PDBConstructionWarning: WARNING: Chain B is discontinuous at line 4056.\n",
      "  warnings.warn(\n",
      "D:\\New folder (2)\\lib\\site-packages\\Bio\\PDB\\StructureBuilder.py:89: PDBConstructionWarning: WARNING: Chain C is discontinuous at line 4089.\n",
      "  warnings.warn(\n",
      "D:\\New folder (2)\\lib\\site-packages\\Bio\\PDB\\StructureBuilder.py:89: PDBConstructionWarning: WARNING: Chain D is discontinuous at line 4114.\n",
      "  warnings.warn(\n"
     ]
    }
   ],
   "source": [
    "Sars_Covid_2_structure = parser.get_structure(\"6vxx\", \"C:\\\\Users\\\\DSFM\\\\Downloads\\\\6vxx.pdb\")\n",
    "Human_coronavirus_229E_structure = parser.get_structure(\"6u7h\", \"C:\\\\Users\\\\DSFM\\\\Downloads\\\\6u7h.pdb\")\n",
    "Human_Coronavirus_NL63_structure = parser.get_structure(\"2ieq\", \"C:\\\\Users\\\\DSFM\\\\Downloads\\\\2ieq.pdb\")\n",
    "Middle_East_respiratory_syndrome_related_coronavirus_structure = parser.get_structure(\"6kl2\", \"C:\\\\Users\\\\DSFM\\\\Downloads\\\\6kl2.pdb\")"
   ]
  },
  {
   "cell_type": "code",
   "execution_count": 85,
   "id": "5e3382d2",
   "metadata": {},
   "outputs": [
    {
     "name": "stdout",
     "output_type": "stream",
     "text": [
      "Requirement already satisfied: nglview in d:\\new folder (2)\\lib\\site-packages (3.0.3)\n",
      "Requirement already satisfied: jupyterlab-widgets in d:\\new folder (2)\\lib\\site-packages (from nglview) (1.0.0)\n",
      "Requirement already satisfied: numpy in d:\\new folder (2)\\lib\\site-packages (from nglview) (1.20.1)\n",
      "Requirement already satisfied: ipywidgets>=7 in d:\\new folder (2)\\lib\\site-packages (from nglview) (7.6.3)\n",
      "Requirement already satisfied: nbformat>=4.2.0 in d:\\new folder (2)\\lib\\site-packages (from ipywidgets>=7->nglview) (5.1.3)\n",
      "Requirement already satisfied: ipykernel>=4.5.1 in d:\\new folder (2)\\lib\\site-packages (from ipywidgets>=7->nglview) (5.3.4)\n",
      "Requirement already satisfied: ipython>=4.0.0 in d:\\new folder (2)\\lib\\site-packages (from ipywidgets>=7->nglview) (7.22.0)\n",
      "Requirement already satisfied: widgetsnbextension~=3.5.0 in d:\\new folder (2)\\lib\\site-packages (from ipywidgets>=7->nglview) (3.5.1)\n",
      "Requirement already satisfied: traitlets>=4.3.1 in d:\\new folder (2)\\lib\\site-packages (from ipywidgets>=7->nglview) (5.0.5)\n",
      "Requirement already satisfied: jupyter-client in d:\\new folder (2)\\lib\\site-packages (from ipykernel>=4.5.1->ipywidgets>=7->nglview) (6.1.12)\n",
      "Requirement already satisfied: tornado>=4.2 in d:\\new folder (2)\\lib\\site-packages (from ipykernel>=4.5.1->ipywidgets>=7->nglview) (6.1)\n",
      "Requirement already satisfied: pickleshare in d:\\new folder (2)\\lib\\site-packages (from ipython>=4.0.0->ipywidgets>=7->nglview) (0.7.5)\n",
      "Requirement already satisfied: prompt-toolkit!=3.0.0,!=3.0.1,<3.1.0,>=2.0.0 in d:\\new folder (2)\\lib\\site-packages (from ipython>=4.0.0->ipywidgets>=7->nglview) (3.0.17)\n",
      "Requirement already satisfied: setuptools>=18.5 in d:\\new folder (2)\\lib\\site-packages (from ipython>=4.0.0->ipywidgets>=7->nglview) (52.0.0.post20210125)\n",
      "Requirement already satisfied: jedi>=0.16 in d:\\new folder (2)\\lib\\site-packages (from ipython>=4.0.0->ipywidgets>=7->nglview) (0.17.2)\n",
      "Requirement already satisfied: pygments in d:\\new folder (2)\\lib\\site-packages (from ipython>=4.0.0->ipywidgets>=7->nglview) (2.8.1)\n",
      "Requirement already satisfied: decorator in d:\\new folder (2)\\lib\\site-packages (from ipython>=4.0.0->ipywidgets>=7->nglview) (5.0.6)\n",
      "Requirement already satisfied: colorama in d:\\new folder (2)\\lib\\site-packages (from ipython>=4.0.0->ipywidgets>=7->nglview) (0.4.4)\n",
      "Requirement already satisfied: backcall in d:\\new folder (2)\\lib\\site-packages (from ipython>=4.0.0->ipywidgets>=7->nglview) (0.2.0)\n",
      "Requirement already satisfied: parso<0.8.0,>=0.7.0 in d:\\new folder (2)\\lib\\site-packages (from jedi>=0.16->ipython>=4.0.0->ipywidgets>=7->nglview) (0.7.0)\n",
      "Requirement already satisfied: jupyter-core in d:\\new folder (2)\\lib\\site-packages (from nbformat>=4.2.0->ipywidgets>=7->nglview) (4.7.1)\n",
      "Requirement already satisfied: ipython-genutils in d:\\new folder (2)\\lib\\site-packages (from nbformat>=4.2.0->ipywidgets>=7->nglview) (0.2.0)\n",
      "Requirement already satisfied: jsonschema!=2.5.0,>=2.4 in d:\\new folder (2)\\lib\\site-packages (from nbformat>=4.2.0->ipywidgets>=7->nglview) (3.2.0)\n",
      "Requirement already satisfied: six>=1.11.0 in d:\\new folder (2)\\lib\\site-packages (from jsonschema!=2.5.0,>=2.4->nbformat>=4.2.0->ipywidgets>=7->nglview) (1.15.0)\n",
      "Requirement already satisfied: pyrsistent>=0.14.0 in d:\\new folder (2)\\lib\\site-packages (from jsonschema!=2.5.0,>=2.4->nbformat>=4.2.0->ipywidgets>=7->nglview) (0.17.3)\n",
      "Requirement already satisfied: attrs>=17.4.0 in d:\\new folder (2)\\lib\\site-packages (from jsonschema!=2.5.0,>=2.4->nbformat>=4.2.0->ipywidgets>=7->nglview) (20.3.0)\n",
      "Requirement already satisfied: wcwidth in d:\\new folder (2)\\lib\\site-packages (from prompt-toolkit!=3.0.0,!=3.0.1,<3.1.0,>=2.0.0->ipython>=4.0.0->ipywidgets>=7->nglview) (0.2.5)\n",
      "Requirement already satisfied: notebook>=4.4.1 in d:\\new folder (2)\\lib\\site-packages (from widgetsnbextension~=3.5.0->ipywidgets>=7->nglview) (6.3.0)\n",
      "Requirement already satisfied: jinja2 in d:\\new folder (2)\\lib\\site-packages (from notebook>=4.4.1->widgetsnbextension~=3.5.0->ipywidgets>=7->nglview) (2.11.3)\n",
      "Requirement already satisfied: argon2-cffi in d:\\new folder (2)\\lib\\site-packages (from notebook>=4.4.1->widgetsnbextension~=3.5.0->ipywidgets>=7->nglview) (20.1.0)\n",
      "Requirement already satisfied: pyzmq>=17 in d:\\new folder (2)\\lib\\site-packages (from notebook>=4.4.1->widgetsnbextension~=3.5.0->ipywidgets>=7->nglview) (20.0.0)\n",
      "Requirement already satisfied: nbconvert in d:\\new folder (2)\\lib\\site-packages (from notebook>=4.4.1->widgetsnbextension~=3.5.0->ipywidgets>=7->nglview) (6.0.7)\n",
      "Requirement already satisfied: prometheus-client in d:\\new folder (2)\\lib\\site-packages (from notebook>=4.4.1->widgetsnbextension~=3.5.0->ipywidgets>=7->nglview) (0.10.1)\n",
      "Requirement already satisfied: Send2Trash>=1.5.0 in d:\\new folder (2)\\lib\\site-packages (from notebook>=4.4.1->widgetsnbextension~=3.5.0->ipywidgets>=7->nglview) (1.5.0)\n",
      "Requirement already satisfied: terminado>=0.8.3 in d:\\new folder (2)\\lib\\site-packages (from notebook>=4.4.1->widgetsnbextension~=3.5.0->ipywidgets>=7->nglview) (0.9.4)\n",
      "Requirement already satisfied: python-dateutil>=2.1 in d:\\new folder (2)\\lib\\site-packages (from jupyter-client->ipykernel>=4.5.1->ipywidgets>=7->nglview) (2.8.1)\n",
      "Requirement already satisfied: pywin32>=1.0 in d:\\new folder (2)\\lib\\site-packages (from jupyter-core->nbformat>=4.2.0->ipywidgets>=7->nglview) (227)\n",
      "Requirement already satisfied: pywinpty>=0.5 in d:\\new folder (2)\\lib\\site-packages (from terminado>=0.8.3->notebook>=4.4.1->widgetsnbextension~=3.5.0->ipywidgets>=7->nglview) (0.5.7)\n",
      "Requirement already satisfied: cffi>=1.0.0 in d:\\new folder (2)\\lib\\site-packages (from argon2-cffi->notebook>=4.4.1->widgetsnbextension~=3.5.0->ipywidgets>=7->nglview) (1.14.5)\n",
      "Requirement already satisfied: pycparser in d:\\new folder (2)\\lib\\site-packages (from cffi>=1.0.0->argon2-cffi->notebook>=4.4.1->widgetsnbextension~=3.5.0->ipywidgets>=7->nglview) (2.20)\n",
      "Requirement already satisfied: MarkupSafe>=0.23 in d:\\new folder (2)\\lib\\site-packages (from jinja2->notebook>=4.4.1->widgetsnbextension~=3.5.0->ipywidgets>=7->nglview) (1.1.1)\n",
      "Requirement already satisfied: entrypoints>=0.2.2 in d:\\new folder (2)\\lib\\site-packages (from nbconvert->notebook>=4.4.1->widgetsnbextension~=3.5.0->ipywidgets>=7->nglview) (0.3)\n",
      "Requirement already satisfied: bleach in d:\\new folder (2)\\lib\\site-packages (from nbconvert->notebook>=4.4.1->widgetsnbextension~=3.5.0->ipywidgets>=7->nglview) (3.3.0)\n",
      "Requirement already satisfied: testpath in d:\\new folder (2)\\lib\\site-packages (from nbconvert->notebook>=4.4.1->widgetsnbextension~=3.5.0->ipywidgets>=7->nglview) (0.4.4)\n",
      "Requirement already satisfied: defusedxml in d:\\new folder (2)\\lib\\site-packages (from nbconvert->notebook>=4.4.1->widgetsnbextension~=3.5.0->ipywidgets>=7->nglview) (0.7.1)\n",
      "Requirement already satisfied: pandocfilters>=1.4.1 in d:\\new folder (2)\\lib\\site-packages (from nbconvert->notebook>=4.4.1->widgetsnbextension~=3.5.0->ipywidgets>=7->nglview) (1.4.3)\n",
      "Requirement already satisfied: mistune<2,>=0.8.1 in d:\\new folder (2)\\lib\\site-packages (from nbconvert->notebook>=4.4.1->widgetsnbextension~=3.5.0->ipywidgets>=7->nglview) (0.8.4)\n",
      "Requirement already satisfied: jupyterlab-pygments in d:\\new folder (2)\\lib\\site-packages (from nbconvert->notebook>=4.4.1->widgetsnbextension~=3.5.0->ipywidgets>=7->nglview) (0.1.2)\n",
      "Requirement already satisfied: nbclient<0.6.0,>=0.5.0 in d:\\new folder (2)\\lib\\site-packages (from nbconvert->notebook>=4.4.1->widgetsnbextension~=3.5.0->ipywidgets>=7->nglview) (0.5.3)\n",
      "Requirement already satisfied: async-generator in d:\\new folder (2)\\lib\\site-packages (from nbclient<0.6.0,>=0.5.0->nbconvert->notebook>=4.4.1->widgetsnbextension~=3.5.0->ipywidgets>=7->nglview) (1.10)\n",
      "Requirement already satisfied: nest-asyncio in d:\\new folder (2)\\lib\\site-packages (from nbclient<0.6.0,>=0.5.0->nbconvert->notebook>=4.4.1->widgetsnbextension~=3.5.0->ipywidgets>=7->nglview) (1.5.1)\n",
      "Requirement already satisfied: packaging in d:\\new folder (2)\\lib\\site-packages (from bleach->nbconvert->notebook>=4.4.1->widgetsnbextension~=3.5.0->ipywidgets>=7->nglview) (20.9)\n",
      "Requirement already satisfied: webencodings in d:\\new folder (2)\\lib\\site-packages (from bleach->nbconvert->notebook>=4.4.1->widgetsnbextension~=3.5.0->ipywidgets>=7->nglview) (0.5.1)\n",
      "Requirement already satisfied: pyparsing>=2.0.2 in d:\\new folder (2)\\lib\\site-packages (from packaging->bleach->nbconvert->notebook>=4.4.1->widgetsnbextension~=3.5.0->ipywidgets>=7->nglview) (2.4.7)\n"
     ]
    }
   ],
   "source": [
    "! pip install nglview "
   ]
  },
  {
   "cell_type": "code",
   "execution_count": 86,
   "id": "8c61b2b5",
   "metadata": {},
   "outputs": [],
   "source": [
    "import nglview as nv"
   ]
  },
  {
   "cell_type": "code",
   "execution_count": 87,
   "id": "6a787005",
   "metadata": {},
   "outputs": [
    {
     "data": {
      "application/vnd.jupyter.widget-view+json": {
       "model_id": "49a90f04090949f4a077e3a95fc775df",
       "version_major": 2,
       "version_minor": 0
      },
      "text/plain": [
       "NGLWidget()"
      ]
     },
     "metadata": {},
     "output_type": "display_data"
    }
   ],
   "source": [
    "nv.demo()"
   ]
  },
  {
   "cell_type": "code",
   "execution_count": 88,
   "id": "26b8038f",
   "metadata": {},
   "outputs": [],
   "source": [
    "view_Sars_Covid_2_structure =  nv.show_biopython(Sars_Covid_2_structure)"
   ]
  },
  {
   "cell_type": "code",
   "execution_count": 89,
   "id": "c943d375",
   "metadata": {},
   "outputs": [
    {
     "data": {
      "application/vnd.jupyter.widget-view+json": {
       "model_id": "13a7705444d84957a175ae0817c981ec",
       "version_major": 2,
       "version_minor": 0
      },
      "text/plain": [
       "NGLWidget()"
      ]
     },
     "metadata": {},
     "output_type": "display_data"
    }
   ],
   "source": [
    "view_Sars_Covid_2_structure"
   ]
  },
  {
   "cell_type": "code",
   "execution_count": 90,
   "id": "74a03e06",
   "metadata": {},
   "outputs": [],
   "source": [
    "view_Human_Coronavirus_NL63_structure =  nv.show_biopython(Human_Coronavirus_NL63_structure)"
   ]
  },
  {
   "cell_type": "code",
   "execution_count": 91,
   "id": "c8b00b13",
   "metadata": {},
   "outputs": [
    {
     "data": {
      "application/vnd.jupyter.widget-view+json": {
       "model_id": "4794f0812b754a6b93aaffc096759baf",
       "version_major": 2,
       "version_minor": 0
      },
      "text/plain": [
       "NGLWidget()"
      ]
     },
     "metadata": {},
     "output_type": "display_data"
    }
   ],
   "source": [
    "view_Human_Coronavirus_NL63_structure"
   ]
  },
  {
   "cell_type": "code",
   "execution_count": 92,
   "id": "1d76ded4",
   "metadata": {},
   "outputs": [],
   "source": [
    "view_Human_coronavirus_229E_structure =  nv.show_biopython(Human_coronavirus_229E_structure)"
   ]
  },
  {
   "cell_type": "code",
   "execution_count": 93,
   "id": "ab8a2818",
   "metadata": {},
   "outputs": [
    {
     "data": {
      "application/vnd.jupyter.widget-view+json": {
       "model_id": "1016311ecfad41c38dd6203c72238ed5",
       "version_major": 2,
       "version_minor": 0
      },
      "text/plain": [
       "NGLWidget()"
      ]
     },
     "metadata": {},
     "output_type": "display_data"
    }
   ],
   "source": [
    "view_Human_coronavirus_229E_structure"
   ]
  },
  {
   "cell_type": "code",
   "execution_count": 94,
   "id": "0ed0b212",
   "metadata": {},
   "outputs": [],
   "source": [
    "view_Middle_East_respiratory_syndrome_related_coronavirus_structure =  nv.show_biopython(Middle_East_respiratory_syndrome_related_coronavirus_structure)"
   ]
  },
  {
   "cell_type": "code",
   "execution_count": 95,
   "id": "6a2a07a9",
   "metadata": {},
   "outputs": [
    {
     "data": {
      "application/vnd.jupyter.widget-view+json": {
       "model_id": "f144a239570646569b2dbe1d5b79a0c7",
       "version_major": 2,
       "version_minor": 0
      },
      "text/plain": [
       "NGLWidget()"
      ]
     },
     "metadata": {},
     "output_type": "display_data"
    }
   ],
   "source": [
    "view_Middle_East_respiratory_syndrome_related_coronavirus_structure"
   ]
  }
 ],
 "metadata": {
  "kernelspec": {
   "display_name": "Python 3",
   "language": "python",
   "name": "python3"
  },
  "language_info": {
   "codemirror_mode": {
    "name": "ipython",
    "version": 3
   },
   "file_extension": ".py",
   "mimetype": "text/x-python",
   "name": "python",
   "nbconvert_exporter": "python",
   "pygments_lexer": "ipython3",
   "version": "3.8.8"
  }
 },
 "nbformat": 4,
 "nbformat_minor": 5
}
